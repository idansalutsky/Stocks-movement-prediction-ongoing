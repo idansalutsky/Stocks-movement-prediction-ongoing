{
  "cells": [
    {
      "cell_type": "markdown",
      "source": [
        "### Notebook Summary\n",
        "We will select features by using the addition of the L1 norm to the loss of the LSTM network, thus we will get the more important features by checking the absolute value of the weights.\n",
        "Finally, I re-ran the network on the reduced features, the accuracy improved in the weekly and monthly forecast, but we will note that this network was not only designed to adjust the weights to the information because of the loss, therefore we will take the results with limited responsibility and later on in the project I will use the features I found here to run the forecasting algorithm"
      ],
      "metadata": {
        "id": "R_vNiQcGI11d"
      }
    },
    {
      "cell_type": "code",
      "execution_count": 1,
      "metadata": {
        "colab": {
          "base_uri": "https://localhost:8080/"
        },
        "id": "KqPZcLuXTkBV",
        "outputId": "99acce51-b9f1-4d05-b491-60dd93b1a1a6"
      },
      "outputs": [
        {
          "output_type": "stream",
          "name": "stdout",
          "text": [
            "Mounted at /content/drive\n"
          ]
        }
      ],
      "source": [
        "from google.colab import drive\n",
        "import torch.nn as nn\n",
        "import torch.optim as optim\n",
        "from torch.utils.data import DataLoader, TensorDataset\n",
        "from sklearn.model_selection import train_test_split\n",
        "import pandas as pd\n",
        "import numpy as np\n",
        "import torch\n",
        "\n",
        "drive.mount('/content/drive')"
      ]
    },
    {
      "cell_type": "code",
      "execution_count": 2,
      "metadata": {
        "id": "vVkQGQsDqMUj"
      },
      "outputs": [],
      "source": [
        "import pandas as pd\n",
        "Consecutive_stocks =  pd.read_csv('/content/drive/MyDrive/stocks_data/Consecutive_stocks.csv')\n",
        "device = 'cuda' if torch.cuda.is_available() else 'cpu'\n"
      ]
    },
    {
      "cell_type": "code",
      "source": [
        "import pandas as pd\n",
        "import numpy as np\n",
        "from sklearn.model_selection import train_test_split\n",
        "from sklearn.preprocessing import StandardScaler\n",
        "from sklearn.compose import ColumnTransformer\n",
        "from sklearn.pipeline import Pipeline\n",
        "import torch\n",
        "import torch.nn as nn\n",
        "import torch.optim as optim\n",
        "import matplotlib.pyplot as plt\n",
        "from sklearn.utils import resample\n",
        "from collections import Counter\n",
        "\n",
        "def preprocess_data(df, label_col='label_week', seq_length=10, start_date='2022-12-31', exclude_columns=[], alpha=0.8,device = 'cpu'):\n",
        "  \"\"\"\n",
        "    Preprocesses time-series stocks data to sequences that will fid neural network lstm.\n",
        "\n",
        "    Args:\n",
        "        df (DataFrame): The input time-series data.\n",
        "        label_col (str): The column in the DataFrame containing the target labels.\n",
        "        seq_length (int): The length of sequences to create for training the model.\n",
        "        start_date (str): The starting date for considering data in the preprocessing.\n",
        "        exclude_columns (list): Columns to be excluded during preprocessing.\n",
        "        alpha (float): A parameter used to split the data into training and testing sets.\n",
        "        device (str): Specifies the device for PyTorch tensors (CPU or GPU).\n",
        "\n",
        "    Returns:\n",
        "        tuple: Four PyTorch tensors: sequences_train, labels_train, sequences_test, and labels_test.\n",
        "\n",
        "    The preprocess_data function takes a DataFrame df containing time-series data, processes it,\n",
        "    and prepares it for training and testing a machine learning model. It handles tasks such as handling\n",
        "    missing values, scaling features, creating sequences, and addressing class imbalance.\n",
        "\n",
        "    \"\"\"\n",
        "    df = df.copy().fillna(-1)\n",
        "    all_columns = df.columns\n",
        "    columns_to_keep = list(set(all_columns) - set(exclude_columns))\n",
        "\n",
        "    df = df[pd.to_datetime(df['date']) >= pd.to_datetime(start_date)]\n",
        "    min_date = pd.to_datetime(df['date']).min()\n",
        "    max_date = pd.to_datetime(df['date']).max()\n",
        "    num_days = (max_date - min_date).days\n",
        "    split_date = min_date + pd.DateOffset(days=int(alpha * num_days))\n",
        "\n",
        "\n",
        "    df.set_index(['date', 'Symbol'], inplace=True)\n",
        "    label_col_copy = df[label_col].copy()\n",
        "\n",
        "    scaler = StandardScaler()\n",
        "    df[columns_to_keep] = scaler.fit_transform(df[columns_to_keep])\n",
        "    df[label_col] = label_col_copy\n",
        "\n",
        "    train_data = df[pd.to_datetime(df.index.get_level_values('date')) <= split_date].loc[:, columns_to_keep]\n",
        "    test_data = df[pd.to_datetime(df.index.get_level_values('date')) > split_date].loc[:, columns_to_keep]\n",
        "\n",
        "    sequences_train, labels_train = [], []\n",
        "    for symbol in train_data.index.get_level_values('Symbol').unique():\n",
        "        symbol_data = train_data.loc[train_data.index.get_level_values('Symbol') == symbol]\n",
        "        symbol_sequences, symbol_labels = create_sequences(symbol_data[train_data.columns[:-1]], symbol_data[label_col], seq_length)\n",
        "        sequences_train.append(symbol_sequences)\n",
        "        labels_train.append(symbol_labels)\n",
        "\n",
        "    sequences_test, labels_test = [], []\n",
        "    for symbol in test_data.index.get_level_values('Symbol').unique():\n",
        "        symbol_data = test_data.loc[test_data.index.get_level_values('Symbol') == symbol]\n",
        "        symbol_sequences, symbol_labels = create_sequences(symbol_data[test_data.columns[:-1]], symbol_data[label_col], seq_length)\n",
        "        sequences_test.append(symbol_sequences)\n",
        "        labels_test.append(symbol_labels)\n",
        "\n",
        "    sequences_test = torch.cat(sequences_test).to(device)\n",
        "    labels_test = torch.cat(labels_test).to(device)\n",
        "    sequences_train = torch.cat(sequences_train).to(device)\n",
        "    labels_train = torch.cat(labels_train).to(device)\n",
        "    #Handlling unbalanced data with taking randonly equaly nuber of samples from each class\n",
        "\n",
        "    # Extract unique class labels\n",
        "    unique_classes = set(labels_train.cpu().numpy())\n",
        "\n",
        "    # Find the minimum count among classes\n",
        "    min_samples = min(labels_train.tolist().count(c) for c in unique_classes)\n",
        "\n",
        "\n",
        "    class_sequences = []\n",
        "    class_labels = []\n",
        "    for c in unique_classes:\n",
        "        indices = [i for i, label in enumerate(labels_train) if torch.equal(label, torch.tensor(c))]\n",
        "        random_indices = torch.randperm(len(indices))[:min_samples]\n",
        "\n",
        "        class_sequences.extend([sequences_train[i] for i in random_indices])\n",
        "        class_labels.extend([labels_train[i] for i in random_indices])\n",
        "\n",
        "    # Combine the sequences and labels for each class\n",
        "    sequences_train = torch.stack(class_sequences)\n",
        "    labels_train = torch.stack(class_labels)\n",
        "\n",
        "    return sequences_train, labels_train, sequences_test, labels_test\n",
        "\n",
        "\n",
        "def create_sequences(data, labels, seq_length=7):\n",
        "    sequences, next_labels = [], []\n",
        "    for i in range(len(data) - seq_length):\n",
        "        seq = data.iloc[i:i + seq_length]\n",
        "        label = labels.iloc[i + seq_length]\n",
        "        if label == -1:\n",
        "          continue\n",
        "        sequences.append(seq.values)\n",
        "        next_labels.append(label)\n",
        "\n",
        "    sequences = np.array(sequences, dtype=np.float32)\n",
        "    next_labels = np.array(next_labels, dtype=np.int64)\n",
        "\n",
        "    return torch.tensor(sequences).to(device), torch.tensor(next_labels).to(device)\n",
        "\n",
        "def visualize_feature_relevance(model, df, label_col):\n",
        "  # Exclude some columns from the 'df' DataFrame\n",
        "    columns_to_exclude = ['label_day', 'label_week', 'label_month', 'Symbol', 'date','pct_change_week','pct_change_month', 'stock']\n",
        "\n",
        "    # Assuming feature_names is a list of feature names corresponding to the input_size\n",
        "    all_columns = df.columns\n",
        "    feature_names = list(set(all_columns) - set(columns_to_exclude))\n",
        "\n",
        "    # Extract learned coefficients (weights) from the LSTM model\n",
        "    weights = model.lstm.weight_ih_l0.detach().numpy()\n",
        "    # Create a DataFrame to store feature names and weights\n",
        "    feature_relevance_df = pd.DataFrame({'Feature': feature_names, 'Absolute_Weight': np.abs(weights[0, :])})\n",
        "\n",
        "    # Plot the relevance of each feature\n",
        "    plt.bar(range(len(weights[0, :])), feature_relevance_df['Absolute_Weight'])\n",
        "    plt.xlabel('Feature')\n",
        "    plt.ylabel('Absolute Weight')\n",
        "    plt.title(f'Feature Relevance with L1 Regularization-{len(feature_names)} features for {label_col}')\n",
        "    plt.show()\n",
        "    feature_relevance_df.sort_values(by='Absolute_Weight', ascending=False,inplace = True)\n",
        "    pd.set_option('display.max_rows', None)\n",
        "    pd.set_option('display.max_columns', None)\n",
        "    print(feature_relevance_df)\n",
        "\n",
        "    return feature_relevance_df\n",
        "\n",
        "\n",
        "def top_features(feature_relevance_df, top_X=20):\n",
        "\n",
        "    top_feature_names = feature_relevance_df['Feature'].head(top_X).tolist()\n",
        "    return top_feature_names\n"
      ],
      "metadata": {
        "id": "py5Q544Hw6Ib"
      },
      "execution_count": 14,
      "outputs": []
    },
    {
      "cell_type": "code",
      "source": [
        "import torch.nn.functional as F\n",
        "\n",
        "def lstm_pipline(df, label_col='label_week',columns_to_use=[], seq_length=10, hidden_size=64, num_layers=2, num_classes=8, lr=0.01, num_epochs=5, batch_size=128, alpha_lasso=0.01, alpha=0.8, start_date='2022-12-31',device = 'cpu'):\n",
        "    # Preprocess data and get train and test data\n",
        "    # Exclude some columns from the 'df' DataFrame\n",
        "    if label_col == 'label_week':\n",
        "        columns_to_exclude = ['label_day',  'label_month', 'Symbol', 'date','pct_change_week','pct_change_month', 'stock']\n",
        "    elif label_col == 'label_day':\n",
        "        columns_to_exclude = [ 'label_week', 'label_month', 'Symbol', 'date','pct_change_week','pct_change_month', 'stock']\n",
        "    elif label_col == 'label_month':\n",
        "        columns_to_exclude = ['label_day', 'label_week',  'Symbol', 'date','pct_change_week','pct_change_month', 'stock']\n",
        "\n",
        "    if len(columns_to_use)>0:\n",
        "      print('Testing feature selection results')\n",
        "      all_columns = df.columns\n",
        "      columns_to_exclude = list(set(all_columns) - set(columns_to_use+[label_col]))\n",
        "\n",
        "    print(f'Preprocessing and creating sequences, label column is {label_col}...')\n",
        "    sequences_train, labels_train, sequences_test, labels_test = preprocess_data(df, label_col=label_col, seq_length=seq_length, start_date=start_date, exclude_columns=columns_to_exclude, alpha=alpha)\n",
        "\n",
        "    # Create DataLoader for training\n",
        "    train_dataset = TensorDataset(sequences_train, labels_train)\n",
        "    train_loader = DataLoader(train_dataset, batch_size=batch_size, shuffle=True)\n",
        "\n",
        "    # Create DataLoader for testing\n",
        "    test_dataset = TensorDataset(sequences_test, labels_test)\n",
        "    test_loader = DataLoader(test_dataset, batch_size=batch_size, shuffle=False)\n",
        "\n",
        "    class LSTM(nn.Module):\n",
        "        def __init__(self, input_size, hidden_size, num_layers, num_classes):\n",
        "            super(LSTM, self).__init__()\n",
        "            self.lstm = nn.LSTM(input_size=input_size, hidden_size=hidden_size, num_layers=num_layers, batch_first=True)\n",
        "            self.fc = nn.Linear(hidden_size, num_classes)\n",
        "\n",
        "        def forward(self, x):\n",
        "            out, _ = self.lstm(x)\n",
        "            out = self.fc(out[:, -1, :])\n",
        "            return out\n",
        "\n",
        "    # Automatically determine the input size from the data\n",
        "    input_size = sequences_train.size(2)\n",
        "\n",
        "    model = LSTM(input_size, hidden_size=hidden_size, num_layers=num_layers, num_classes=num_classes)\n",
        "    model.to(device)\n",
        "\n",
        "    optimizer = optim.Adam(model.parameters(), lr=lr)\n",
        "\n",
        "    # L1 regularization\n",
        "    l1_regularization = nn.L1Loss()\n",
        "    print('Start training')\n",
        "\n",
        "    for epoch in range(num_epochs):\n",
        "        running_loss = 0.0\n",
        "        for i, (inputs, labels) in enumerate(train_loader, 1):\n",
        "            optimizer.zero_grad()\n",
        "            outputs = model(inputs)\n",
        "\n",
        "            # Calculate CrossEntropyLoss\n",
        "            loss_ce = F.cross_entropy(outputs, labels)\n",
        "\n",
        "            # L1 regularization\n",
        "            reg_loss = torch.tensor(0., requires_grad=True).to(device)\n",
        "            for param in model.parameters():\n",
        "                norm = torch.norm(param.clone().detach(), p=1)\n",
        "                reg_loss = reg_loss + norm  # Create a new tensor for accumulation\n",
        "\n",
        "\n",
        "            # Total loss with L1 regularization\n",
        "            loss = loss_ce + alpha_lasso * reg_loss\n",
        "\n",
        "            loss.backward()\n",
        "            optimizer.step()\n",
        "\n",
        "            running_loss += loss.item()\n",
        "\n",
        "            if i % 1500 == 0:\n",
        "                print(f'Epoch [{epoch+1}/{num_epochs}], Batch [{i}/{len(train_loader)}], Loss: {running_loss / i:.4f}')\n",
        "\n",
        "        epoch_loss = running_loss / len(train_loader)\n",
        "        print(f'Epoch [{epoch+1}/{num_epochs}], Loss: {epoch_loss:.4f}')\n",
        "\n",
        "    print('Evaluating')\n",
        "\n",
        "    # In case i want to use this part to get predictions and there probabilities for the stocks\n",
        "    model.eval()\n",
        "    correct, total = 0, 0\n",
        "    all_predictions, all_probabilities, all_real_labels = [], [], []\n",
        "\n",
        "    with torch.no_grad():\n",
        "        for inputs, labels in test_loader:\n",
        "            outputs = model(inputs)\n",
        "            probabilities = F.softmax(outputs, dim=1)\n",
        "\n",
        "            _, predicted = torch.max(outputs, 1)\n",
        "            total += labels.size(0)\n",
        "            correct += (predicted == labels).sum().item()\n",
        "\n",
        "            probabilities = F.softmax(outputs, dim=1)\n",
        "            all_predictions.extend(predicted.cpu().numpy())\n",
        "            all_probabilities.extend(probabilities.cpu().numpy())\n",
        "            all_real_labels.extend(labels.cpu().numpy())\n",
        "\n",
        "\n",
        "    accuracy = correct / total #The accuracy wont be very good, the main perpose of this is to do feature selection\n",
        "    print(f'Accuracy: {accuracy * 100:.2f}%')\n",
        "\n",
        "    if len(columns_to_use)==0:\n",
        "        print('Start features checking')\n",
        "        feature_relevance_df = visualize_feature_relevance(model, df=Consecutive_stocks,label_col=label_col)\n",
        "\n",
        "        return model, feature_relevance_df\n",
        "    else:\n",
        "        return model\n",
        "\n"
      ],
      "metadata": {
        "id": "yy4SCZxrYLgt"
      },
      "execution_count": 15,
      "outputs": []
    },
    {
      "cell_type": "code",
      "source": [
        "train_test_ratio=0.8\n",
        "top_X_features = 20\n",
        "Nepochs = 3\n",
        "start_date='2022-12-31'\n",
        "hidden_size = 32\n",
        "batch_size = 64"
      ],
      "metadata": {
        "id": "9AnoT5VewlvY"
      },
      "execution_count": 16,
      "outputs": []
    },
    {
      "cell_type": "markdown",
      "source": [
        "###Day"
      ],
      "metadata": {
        "id": "2F1tzXXc7V_D"
      }
    },
    {
      "cell_type": "code",
      "source": [
        "model_day, feature_relevance_df_day = lstm_pipline(df=Consecutive_stocks, label_col='label_day', seq_length=7, hidden_size=hidden_size, num_layers=2, num_classes=8, lr=0.01, num_epochs=Nepochs, batch_size=batch_size, alpha_lasso=0.01, alpha=train_test_ratio, start_date=start_date)\n"
      ],
      "metadata": {
        "colab": {
          "base_uri": "https://localhost:8080/",
          "height": 1000
        },
        "id": "HXeXJhqWdM3O",
        "outputId": "37fa09eb-ffae-4a8d-fdd7-b1cb6996e90e"
      },
      "execution_count": 17,
      "outputs": [
        {
          "output_type": "stream",
          "name": "stdout",
          "text": [
            "Preprocessing and creating sequences, label column is label_day...\n",
            "Start training\n",
            "Epoch [1/3], Loss: 34.3137\n",
            "Epoch [2/3], Loss: 51.8026\n",
            "Epoch [3/3], Loss: 64.3168\n",
            "Evaluating\n",
            "Accuracy: 36.17%\n",
            "Start features checking\n"
          ]
        },
        {
          "output_type": "display_data",
          "data": {
            "text/plain": [
              "<Figure size 640x480 with 1 Axes>"
            ],
            "image/png": "[encoded data removed]"
          },
          "metadata": {}
        },
        {
          "output_type": "stream",
          "name": "stdout",
          "text": [
            "                                Feature  Absolute_Weight\n",
            "28                                   ad         2.394953\n",
            "48                            adx_short         2.074355\n",
            "53                         adosc_medium         2.006029\n",
            "42                            sma_short         1.747510\n",
            "35                             atr_long         1.476215\n",
            "33   ratio_pct_change_26_^GSPC_Industry         1.457320\n",
            "37                             mom_long         1.251276\n",
            "23  ratio_pct_change_100_^GSPC_Industry         1.124503\n",
            "22                                  bop         0.947088\n",
            "25                           adosc_long         0.868591\n",
            "16                           apo_medium         0.800037\n",
            "14                               Volume         0.738960\n",
            "54              pct_change_100_Industry         0.658691\n",
            "40                  pct_change_26_^GSPC         0.570660\n",
            "36                            dema_long         0.557273\n",
            "34                             mfi_long         0.539535\n",
            "17                                  sar         0.524591\n",
            "51                            mom_short         0.523458\n",
            "29                            Adj Close         0.515993\n",
            "43                          kama_medium         0.513719\n",
            "11                           sma_medium         0.495575\n",
            "31                           kama_short         0.489929\n",
            "26                            ema_short         0.473769\n",
            "4                        pct_change_100         0.470708\n",
            "13                             sma_long         0.463660\n",
            "46                                  obv         0.454870\n",
            "15                                Close         0.443225\n",
            "56                            kama_long         0.440221\n",
            "60                          adosc_short         0.425307\n",
            "52                               trange         0.418315\n",
            "39                             ema_long         0.418284\n",
            "45                             cci_long         0.414597\n",
            "59                            apo_short         0.407268\n",
            "3                            rsi_medium         0.394255\n",
            "24                       Sector_encoded         0.365407\n",
            "44                            rsi_short         0.346188\n",
            "57               pct_change_26_Industry         0.341931\n",
            "58                             adx_long         0.336045\n",
            "8                            dema_short         0.315027\n",
            "21                             rsi_long         0.303691\n",
            "50                                  Low         0.269853\n",
            "27                                 Open         0.264979\n",
            "19                           ema_medium         0.262388\n",
            "49                           mfi_medium         0.207365\n",
            "20                           adx_medium         0.180676\n",
            "2                             mfi_short         0.177724\n",
            "41                           atr_medium         0.177013\n",
            "0                  pct_change_100_^GSPC         0.168413\n",
            "18                             apo_long         0.165990\n",
            "1                                  macd         0.165610\n",
            "9             ratio_pct_change_26_^GSPC         0.156345\n",
            "7                         pct_change_26         0.143822\n",
            "38                           mom_medium         0.123672\n",
            "6            ratio_pct_change_100_^GSPC         0.115604\n",
            "10                     Industry_encoded         0.091704\n",
            "12                            cci_short         0.091662\n",
            "30                           cci_medium         0.088333\n",
            "55                          dema_medium         0.073448\n",
            "32                             macdhist         0.057603\n",
            "47                            atr_short         0.051038\n",
            "5                            macdsignal         0.021377\n",
            "61                                 High         0.019887\n"
          ]
        }
      ]
    },
    {
      "cell_type": "code",
      "source": [
        "columns_to_use_day = top_features(feature_relevance_df_day, top_X=top_X_features)\n",
        "model_day  = lstm_pipline(df=Consecutive_stocks, label_col='label_day',columns_to_use=columns_to_use_day ,seq_length=7, hidden_size=hidden_size, num_layers=2, num_classes=8, lr=0.01, num_epochs=Nepochs, batch_size=batch_size, alpha_lasso=0.01, alpha=train_test_ratio, start_date=start_date)\n"
      ],
      "metadata": {
        "colab": {
          "base_uri": "https://localhost:8080/"
        },
        "id": "VSA6qeXn1moI",
        "outputId": "829d6d24-1e26-4230-d2d6-3c555b696696"
      },
      "execution_count": 18,
      "outputs": [
        {
          "output_type": "stream",
          "name": "stdout",
          "text": [
            "Testing feature selection results\n",
            "Preprocessing and creating sequences, label column is label_day...\n",
            "Start training\n",
            "Epoch [1/3], Loss: 24.3495\n",
            "Epoch [2/3], Loss: 35.3885\n",
            "Epoch [3/3], Loss: 44.7532\n",
            "Evaluating\n",
            "Accuracy: 34.56%\n"
          ]
        }
      ]
    },
    {
      "cell_type": "markdown",
      "source": [
        "###Week"
      ],
      "metadata": {
        "id": "F78D4JNV7YkV"
      }
    },
    {
      "cell_type": "code",
      "source": [
        "model_week, feature_relevance_df_week = lstm_pipline(df=Consecutive_stocks, label_col='label_week', seq_length=10, hidden_size=hidden_size*2, num_layers=2, num_classes=8, lr=0.01, num_epochs=Nepochs, batch_size=batch_size*2, alpha_lasso=0.01, alpha=train_test_ratio, start_date=start_date)\n"
      ],
      "metadata": {
        "colab": {
          "base_uri": "https://localhost:8080/",
          "height": 1000
        },
        "id": "vjep88rQwL0b",
        "outputId": "87e78e6d-99ff-4fd6-cb0f-2e494b65aab3"
      },
      "execution_count": 19,
      "outputs": [
        {
          "output_type": "stream",
          "name": "stdout",
          "text": [
            "Preprocessing and creating sequences, label column is label_week...\n",
            "Start training\n",
            "Epoch [1/3], Batch [1500/2738], Loss: 120.9017\n",
            "Epoch [1/3], Loss: 152.4067\n",
            "Epoch [2/3], Batch [1500/2738], Loss: 247.5327\n",
            "Epoch [2/3], Loss: 269.3409\n",
            "Epoch [3/3], Batch [1500/2738], Loss: 339.8390\n",
            "Epoch [3/3], Loss: 356.9632\n",
            "Evaluating\n",
            "Accuracy: 41.53%\n",
            "Start features checking\n"
          ]
        },
        {
          "output_type": "display_data",
          "data": {
            "text/plain": [
              "<Figure size 640x480 with 1 Axes>"
            ],
            "image/png": "[encoded data removed]"
          },
          "metadata": {}
        },
        {
          "output_type": "stream",
          "name": "stdout",
          "text": [
            "                                Feature  Absolute_Weight\n",
            "0                  pct_change_100_^GSPC         2.510530\n",
            "33   ratio_pct_change_26_^GSPC_Industry         1.774025\n",
            "12                            cci_short         1.664230\n",
            "9             ratio_pct_change_26_^GSPC         1.379164\n",
            "31                           kama_short         1.217151\n",
            "58                             adx_long         1.079178\n",
            "47                            atr_short         1.034029\n",
            "38                           mom_medium         1.004340\n",
            "49                           mfi_medium         0.693902\n",
            "45                             cci_long         0.692363\n",
            "6            ratio_pct_change_100_^GSPC         0.690536\n",
            "21                             rsi_long         0.619241\n",
            "4                        pct_change_100         0.593731\n",
            "55                          dema_medium         0.563671\n",
            "29                            Adj Close         0.538664\n",
            "17                                  sar         0.512507\n",
            "35                             atr_long         0.507842\n",
            "5                            macdsignal         0.489677\n",
            "32                             macdhist         0.487604\n",
            "24                       Sector_encoded         0.483891\n",
            "13                             sma_long         0.481197\n",
            "18                             apo_long         0.471781\n",
            "3                            rsi_medium         0.469937\n",
            "37                             mom_long         0.445774\n",
            "34                             mfi_long         0.418759\n",
            "44                            rsi_short         0.417341\n",
            "36                            dema_long         0.412719\n",
            "27                                 Open         0.398085\n",
            "26                            ema_short         0.397555\n",
            "56                            kama_long         0.392654\n",
            "25                           adosc_long         0.391029\n",
            "8                            dema_short         0.376727\n",
            "20                           adx_medium         0.362843\n",
            "28                                   ad         0.351759\n",
            "40                  pct_change_26_^GSPC         0.351380\n",
            "43                          kama_medium         0.349453\n",
            "51                            mom_short         0.348783\n",
            "60                          adosc_short         0.323293\n",
            "52                               trange         0.307788\n",
            "57               pct_change_26_Industry         0.291527\n",
            "11                           sma_medium         0.282000\n",
            "54              pct_change_100_Industry         0.281034\n",
            "59                            apo_short         0.258871\n",
            "42                            sma_short         0.252300\n",
            "7                         pct_change_26         0.247003\n",
            "50                                  Low         0.234193\n",
            "46                                  obv         0.231106\n",
            "22                                  bop         0.215552\n",
            "16                           apo_medium         0.210568\n",
            "23  ratio_pct_change_100_^GSPC_Industry         0.209631\n",
            "30                           cci_medium         0.157719\n",
            "48                            adx_short         0.142635\n",
            "61                                 High         0.119969\n",
            "41                           atr_medium         0.118720\n",
            "10                     Industry_encoded         0.107693\n",
            "19                           ema_medium         0.094575\n",
            "53                         adosc_medium         0.092270\n",
            "14                               Volume         0.042776\n",
            "1                                  macd         0.042041\n",
            "2                             mfi_short         0.016607\n",
            "15                                Close         0.008030\n",
            "39                             ema_long         0.000050\n"
          ]
        }
      ]
    },
    {
      "cell_type": "code",
      "source": [
        "columns_to_use_week = top_features(feature_relevance_df_week, top_X=top_X_features)\n",
        "model_week = lstm_pipline(df=Consecutive_stocks, label_col='label_week',columns_to_use=columns_to_use_week, seq_length=10, hidden_size=hidden_size*2, num_layers=2, num_classes=8, lr=0.01, num_epochs=Nepochs, batch_size=batch_size*2, alpha_lasso=0.01, alpha=train_test_ratio, start_date=start_date)\n"
      ],
      "metadata": {
        "colab": {
          "base_uri": "https://localhost:8080/"
        },
        "id": "Jj_5KVeg2XDS",
        "outputId": "039cce1e-cf38-4544-f381-b71ecebb57f7"
      },
      "execution_count": 20,
      "outputs": [
        {
          "output_type": "stream",
          "name": "stdout",
          "text": [
            "Testing feature selection results\n",
            "Preprocessing and creating sequences, label column is label_week...\n",
            "Start training\n",
            "Epoch [1/3], Batch [1500/2738], Loss: 97.7389\n",
            "Epoch [1/3], Loss: 126.2162\n",
            "Epoch [2/3], Batch [1500/2738], Loss: 213.0842\n",
            "Epoch [2/3], Loss: 234.5514\n",
            "Epoch [3/3], Batch [1500/2738], Loss: 303.6879\n",
            "Epoch [3/3], Loss: 321.7175\n",
            "Evaluating\n",
            "Accuracy: 43.09%\n"
          ]
        }
      ]
    },
    {
      "cell_type": "markdown",
      "source": [
        "###Month"
      ],
      "metadata": {
        "id": "yOSMRS0T7aqm"
      }
    },
    {
      "cell_type": "code",
      "source": [
        "model_month, feature_relevance_df_month = lstm_pipline(df=Consecutive_stocks, label_col='label_month', seq_length=15, hidden_size=hidden_size*4, num_layers=2, num_classes=8, lr=0.01, num_epochs=Nepochs, batch_size=batch_size*4, alpha_lasso=0.01, alpha=train_test_ratio, start_date=start_date)\n"
      ],
      "metadata": {
        "colab": {
          "base_uri": "https://localhost:8080/",
          "height": 1000
        },
        "id": "iaPGkbNBwME7",
        "outputId": "f3b52a96-9b15-40ea-f807-c8069edcfc8a"
      },
      "execution_count": 21,
      "outputs": [
        {
          "output_type": "stream",
          "name": "stdout",
          "text": [
            "Preprocessing and creating sequences, label column is label_month...\n",
            "Start training\n",
            "Epoch [1/3], Batch [1500/1888], Loss: 292.1357\n",
            "Epoch [1/3], Loss: 326.7461\n",
            "Epoch [2/3], Batch [1500/1888], Loss: 650.6404\n",
            "Epoch [2/3], Loss: 688.1941\n",
            "Epoch [3/3], Batch [1500/1888], Loss: 1008.5063\n",
            "Epoch [3/3], Loss: 1040.8275\n",
            "Evaluating\n",
            "Accuracy: 61.89%\n",
            "Start features checking\n"
          ]
        },
        {
          "output_type": "display_data",
          "data": {
            "text/plain": [
              "<Figure size 640x480 with 1 Axes>"
            ],
            "image/png": "[encoded data removed]"
          },
          "metadata": {}
        },
        {
          "output_type": "stream",
          "name": "stdout",
          "text": [
            "                                Feature  Absolute_Weight\n",
            "14                               Volume         1.315420\n",
            "55                          dema_medium         1.242223\n",
            "25                           adosc_long         1.152488\n",
            "45                             cci_long         1.124565\n",
            "24                       Sector_encoded         1.097376\n",
            "23  ratio_pct_change_100_^GSPC_Industry         1.032611\n",
            "7                         pct_change_26         1.017359\n",
            "0                  pct_change_100_^GSPC         1.003184\n",
            "59                            apo_short         0.985293\n",
            "31                           kama_short         0.951362\n",
            "3                            rsi_medium         0.856919\n",
            "10                     Industry_encoded         0.769463\n",
            "4                        pct_change_100         0.743815\n",
            "12                            cci_short         0.684964\n",
            "26                            ema_short         0.667967\n",
            "21                             rsi_long         0.666047\n",
            "54              pct_change_100_Industry         0.638408\n",
            "35                             atr_long         0.566340\n",
            "34                             mfi_long         0.533607\n",
            "6            ratio_pct_change_100_^GSPC         0.523963\n",
            "15                                Close         0.507503\n",
            "37                             mom_long         0.495026\n",
            "20                           adx_medium         0.476812\n",
            "56                            kama_long         0.462803\n",
            "50                                  Low         0.456791\n",
            "27                                 Open         0.450240\n",
            "58                             adx_long         0.448877\n",
            "57               pct_change_26_Industry         0.442154\n",
            "43                          kama_medium         0.435904\n",
            "44                            rsi_short         0.428789\n",
            "1                                  macd         0.419228\n",
            "18                             apo_long         0.417371\n",
            "9             ratio_pct_change_26_^GSPC         0.414936\n",
            "60                          adosc_short         0.413702\n",
            "13                             sma_long         0.407297\n",
            "11                           sma_medium         0.395239\n",
            "40                  pct_change_26_^GSPC         0.382576\n",
            "17                                  sar         0.382208\n",
            "46                                  obv         0.381081\n",
            "30                           cci_medium         0.377286\n",
            "2                             mfi_short         0.374299\n",
            "41                           atr_medium         0.370657\n",
            "8                            dema_short         0.366420\n",
            "52                               trange         0.365051\n",
            "16                           apo_medium         0.360238\n",
            "28                                   ad         0.357499\n",
            "5                            macdsignal         0.328010\n",
            "51                            mom_short         0.298676\n",
            "47                            atr_short         0.292876\n",
            "32                             macdhist         0.289780\n",
            "33   ratio_pct_change_26_^GSPC_Industry         0.273648\n",
            "49                           mfi_medium         0.270980\n",
            "29                            Adj Close         0.234373\n",
            "36                            dema_long         0.203540\n",
            "22                                  bop         0.173965\n",
            "39                             ema_long         0.103022\n",
            "42                            sma_short         0.063124\n",
            "19                           ema_medium         0.063076\n",
            "61                                 High         0.054590\n",
            "53                         adosc_medium         0.033413\n",
            "48                            adx_short         0.018617\n",
            "38                           mom_medium         0.010916\n"
          ]
        }
      ]
    },
    {
      "cell_type": "code",
      "source": [
        "columns_to_use_month = top_features(feature_relevance_df_month, top_X=top_X_features)\n",
        "model_month = lstm_pipline(df=Consecutive_stocks, label_col='label_month',columns_to_use=columns_to_use_month, seq_length=15, hidden_size=hidden_size*4, num_layers=2, num_classes=8, lr=0.01, num_epochs=Nepochs, batch_size=batch_size*4, alpha_lasso=0.01, alpha=train_test_ratio, start_date=start_date)\n"
      ],
      "metadata": {
        "colab": {
          "base_uri": "https://localhost:8080/"
        },
        "id": "Wgl7ZBxO2oOy",
        "outputId": "2c77ba4a-deea-4c3a-f93a-8729a83f9b78"
      },
      "execution_count": 22,
      "outputs": [
        {
          "output_type": "stream",
          "name": "stdout",
          "text": [
            "Testing feature selection results\n",
            "Preprocessing and creating sequences, label column is label_month...\n",
            "Start training\n",
            "Epoch [1/3], Batch [1500/1888], Loss: 257.5539\n",
            "Epoch [1/3], Loss: 288.4924\n",
            "Epoch [2/3], Batch [1500/1888], Loss: 583.5913\n",
            "Epoch [2/3], Loss: 621.4392\n",
            "Epoch [3/3], Batch [1500/1888], Loss: 948.5559\n",
            "Epoch [3/3], Loss: 982.4263\n",
            "Evaluating\n",
            "Accuracy: 64.05%\n"
          ]
        }
      ]
    },
    {
      "cell_type": "code",
      "source": [
        "import pandas as pd\n",
        "#Save selected features names\n",
        "\n",
        "df = pd.DataFrame({\n",
        "    'columns_to_use_day': columns_to_use_day,\n",
        "    'columns_to_use_week': columns_to_use_week,\n",
        "    'columns_to_use_month': columns_to_use_month\n",
        "})\n",
        "\n",
        "df.to_csv('/content/drive/MyDrive/stocks_data/selected_columns.csv', index=False)\n"
      ],
      "metadata": {
        "id": "CuXobX25GQPM"
      },
      "execution_count": 23,
      "outputs": []
    }
  ],
  "metadata": {
    "colab": {
      "machine_shape": "hm",
      "provenance": []
    },
    "kernelspec": {
      "display_name": "Python 3",
      "name": "python3"
    },
    "language_info": {
      "name": "python"
    }
  },
  "nbformat": 4,
  "nbformat_minor": 0
}